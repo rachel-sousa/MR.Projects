{
 "cells": [
  {
   "cell_type": "markdown",
   "metadata": {},
   "source": [
    "### To Do\n",
    "~~1. Keep small games highlighted small game winner color ~~\n",
    "\n",
    "~~2. Check if game is won ~~\n",
    "\n",
    "  ~~  a. If game is won, don't let someone go there. Highlight remaining small games if sent to a game that is won. ~~\n",
    "\n",
    "3. Save board as csv\n",
    "4. Reset button\n",
    "\n",
    "~~ 5. Change final highlighted (green) to winner's color ~~\n",
    "\n",
    "6. Clear green boxes on final screen"
   ]
  },
  {
   "cell_type": "code",
   "execution_count": 1,
   "metadata": {},
   "outputs": [],
   "source": [
    "import tkinter as tk #import the tkinter library\n",
    "from collections import defaultdict"
   ]
  },
  {
   "cell_type": "code",
   "execution_count": 12,
   "metadata": {},
   "outputs": [],
   "source": [
    "#EXTREME Tic Tac Toe\n",
    "#By: Rachel Sousa & Mike Engle\n",
    "\n",
    "pO_col = \"purple\"\n",
    "O_color_highlight = \"thistle\"\n",
    "pX_col = \"black\"\n",
    "X_color_highlight = \"lightgrey\"\n",
    "\n",
    "player = 'O'\n",
    "highlighted = [] #green highlighted square - i.e. where next player can go\n",
    "lilgameswon = []\n",
    "for i in range(11):\n",
    "    for j in range(11):\n",
    "        highlighted.append((i,j))\n",
    "\n",
    "win_matrix = [[0 for col in range(3)] for row in range(3)]\n",
    "\n",
    "big_grid_dict= defaultdict(list)\n",
    "big_grid_dict[(0,0)] = [(0,0), (0,1), (0,2), (1,0), (1,1), (1,2), (2,0), (2,1), (2,2)]\n",
    "big_grid_dict[(0,1)] = [(0,4), (0,5), (0,6), (1,4), (1,5), (1,6), (2,4), (2,5), (2,6)]\n",
    "big_grid_dict[(0,2)] = [(0,8), (0,9), (0,10), (1,8), (1,9), (1,10), (2,8), (2,9), (2,10)]\n",
    "big_grid_dict[(1,0)] = [(4,0), (4,1), (4,2), (5,0), (5,1), (5,2), (6,0), (6,1), (6,2)]\n",
    "big_grid_dict[(1,1)] = [(4,4), (4,5), (4,6), (5,4), (5,5), (5,6), (6,4), (6,5), (6,6)]\n",
    "big_grid_dict[(1,2)] = [(4,8), (4,9), (4,10), (5,8), (5,9), (5,10), (6,8), (6,9), (6,10)]\n",
    "big_grid_dict[(2,0)] = [(8,0), (8,1), (8,2), (9,0), (9,1), (9,2), (10,0), (10,1), (10,2)]\n",
    "big_grid_dict[(2,1)] = [(8,4), (8,5), (8,6), (9,4), (9,5), (9,6), (10,4), (10,5), (10,6)]\n",
    "big_grid_dict[(2,2)] = [(8,8), (8,9), (8,10), (9,8), (9,9), (9,10), (10,8), (10,9), (10,10)]\n",
    "\n",
    "\n",
    "#create window\n",
    "window = tk.Tk()\n",
    "\n",
    "#layout the gameboard as a matrix\n",
    "button = [[0, 0, 0, 0, 0, 0, 0, 0, 0, 0, 0],\n",
    "          [0, 0, 0, 0, 0, 0, 0, 0, 0, 0, 0],\n",
    "          [0, 0, 0, 0, 0, 0, 0, 0, 0, 0, 0],\n",
    "          [0, 0, 0, 0, 0, 0, 0, 0, 0, 0, 0],\n",
    "          [0, 0, 0, 0, 0, 0, 0, 0, 0, 0, 0],\n",
    "          [0, 0, 0, 0, 0, 0, 0, 0, 0, 0, 0],\n",
    "          [0, 0, 0, 0, 0, 0, 0, 0, 0, 0, 0],\n",
    "          [0, 0, 0, 0, 0, 0, 0, 0, 0, 0, 0],\n",
    "          [0, 0, 0, 0, 0, 0, 0, 0, 0, 0, 0],\n",
    "          [0, 0, 0, 0, 0, 0, 0, 0, 0, 0, 0],\n",
    "          [0, 0, 0, 0, 0, 0, 0, 0, 0, 0, 0]]\n",
    "\n",
    "\n",
    "def add_text(r,c):\n",
    "    global player\n",
    "    #if spot is empty add text\n",
    "    #if button[r][c]['text'] == '':\n",
    "    button[r][c]['text'] = player\n",
    "        #change to other player\n",
    "    if player == 'O':\n",
    "        button[r][c].config(fg=pO_col,)\n",
    "        label_1.config(text= \"X's turn\")\n",
    "        #player = 'X'\n",
    "    else:\n",
    "        button[r][c].config(fg=pX_col, )\n",
    "        label_1.config(text=\"O's turn\")\n",
    "        #player = 'O'\n",
    "\n",
    "def check_lilwin(r,c):\n",
    "    global win_matrix\n",
    "    global lilgameswon\n",
    "    \n",
    "    #find big_grid_dict that contains (r,c) and take the first value of the big grid dict that has that set\n",
    "    for x in range(3):\n",
    "        for y in range(3):\n",
    "            if (r,c) in big_grid_dict[(x,y)]:\n",
    "                m, n = x, y\n",
    "            \n",
    "    i, j = big_grid_dict[(m, n)][0] #gives first entry of big grid dict\n",
    "    #check rows\n",
    "    for num in range(3):\n",
    "        if button[i+num][j]['text'] == button[i+num][j+1]['text'] == button[i+num][j+2]['text'] != '':\n",
    "            if player == 'O':\n",
    "                win_matrix[m][n] = 1\n",
    "                lilgameswon = lilgameswon + [(m, n)]\n",
    "            else:\n",
    "                win_matrix[m][n] = 2\n",
    "                lilgameswon = lilgameswon + [(m, n)]\n",
    "\n",
    "    #check columns                \n",
    "    for num in range(3):\n",
    "        if button[i][j+num]['text'] == button[i+1][j+num]['text'] == button[i+2][j+num]['text'] != '':\n",
    "            if player == 'O':\n",
    "                win_matrix[m][n] = 1\n",
    "                lilgameswon = lilgameswon + [(m, n)]\n",
    "            else:\n",
    "                win_matrix[m][n] = 2\n",
    "                lilgameswon = lilgameswon + [(m, n)]\n",
    "\n",
    "    #check diagonals\n",
    "    if button[i][j]['text'] == button[i+1][j+1]['text'] == button[i+2][j+2]['text'] != '':\n",
    "        if player == 'O':\n",
    "            win_matrix[m][n] = 1\n",
    "            lilgameswon = lilgameswon + [(m, n)]\n",
    "        else:\n",
    "            win_matrix[m][n] = 2\n",
    "            lilgameswon = lilgameswon + [(m, n)]\n",
    "    elif button[i][j+2]['text'] == button[i][j]['text'] == button[i+2][j]['text'] != '':\n",
    "        if player == 'O':\n",
    "            win_matrix[m][n] = 1\n",
    "            lilgameswon = lilgameswon + [(m, n)]\n",
    "        else:\n",
    "            win_matrix[m][n] = 2\n",
    "            lilgameswon = lilgameswon + [(m, n)]\n",
    "            \n",
    "            \n",
    "#need to fix this -- goes one turn too many\n",
    "def check_bigwin():\n",
    "    global win_matrix\n",
    "    for i in range(3):\n",
    "        if win_matrix[i][0] == win_matrix[i][1] == win_matrix[i][2] != 0:\n",
    "            return True\n",
    "    for j in range(3):\n",
    "        if win_matrix[0][j] == win_matrix[1][j] == win_matrix[2][j] != 0:\n",
    "            return True\n",
    "    if win_matrix[0][0] == win_matrix[1][1] == win_matrix[2][2] != 0:\n",
    "        return True\n",
    "    elif win_matrix[0][2] == win_matrix[1][1]== win_matrix[2][0] != 0:\n",
    "        return True\n",
    "    return False\n",
    "\n",
    "#######attempt to highlight a whole 3x3 matrix######\n",
    "#If there is no full board winner then clear the highlights (make all of the squares white), and then highlight\n",
    "#the small grid of the next turn. If there is a winner print the winning player in the terminal \n",
    "def highlight_grid(r, c):\n",
    "    global highlighted\n",
    "    global player\n",
    "    global lilgameswon\n",
    "    \n",
    "    #used for highlighting the grid\n",
    "    #m and n are the indices for the big grid\n",
    "    #r and c are indicies for individual buttons\n",
    "    if (r < 3):\n",
    "        m = r\n",
    "    elif (r > 3 and r < 7):\n",
    "        m = (r - 4)\n",
    "    elif (r > 7):\n",
    "        m = (r - 8)\n",
    "\n",
    "    if (c < 3):\n",
    "         n = c\n",
    "    elif (c > 3 and c < 7):\n",
    "        n = (c - 4)\n",
    "    elif (c > 7):\n",
    "        n = (c - 8)\n",
    "\n",
    "#     if (r, c) in highlighted and (m,n) not in lilgameswon and button[r][c]['text'] == '':\n",
    "#         add_text(r, c)\n",
    "#         check_lilwin(r,c)\n",
    "#         print(win_matrix)\n",
    "    \n",
    "    if (r, c) in highlighted and button[r][c]['text'] == '':\n",
    "        add_text(r, c)\n",
    "        check_lilwin(r,c)\n",
    "            \n",
    "        if check_bigwin() == False:\n",
    "            #change players after turn is over\n",
    "            if player == 'O':\n",
    "                player = 'X'\n",
    "            else:\n",
    "                player = 'O'\n",
    "\n",
    "            #clear the board\n",
    "            for e in range(11):\n",
    "                w = 0\n",
    "                for w in range (11):\n",
    "                    if (e!=3 and e!=7):\n",
    "                        if (w!=3 and w!=7):\n",
    "                            button[e][w].config(bg=\"white\",)\n",
    "    #             #clear the board\n",
    "    #             for pair in big_grid_dict[(m,n)]:\n",
    "    #                 print(\"m,n:\", m, n)\n",
    "    #                 button[pair[0]][pair[1]].config(bg=\"white\",)    \n",
    "\n",
    "            #change next board to green\n",
    "            if win_matrix[m][n] == 0:\n",
    "                highlighted = big_grid_dict[(m,n)]\n",
    "                for i in range(len(big_grid_dict[(m,n)])):\n",
    "                    #get index of grid space\n",
    "                    row, col = big_grid_dict[(m,n)][i][0], big_grid_dict[(m,n)][i][1]\n",
    "                    #set grid space to color\n",
    "                    button[row][col].config(bg=\"green\", )\n",
    "            else: #highlight all open small boards green if next destination was already won \n",
    "                highlighted = []\n",
    "                for row1 in range(len(win_matrix)):\n",
    "                    for col1 in range(len(win_matrix[row1])):\n",
    "                        if win_matrix[row1][col1] == 0: #highlight player O color (pO_col)\n",
    "                            highlighted = highlighted + big_grid_dict[(row1,col1)]\n",
    "                            #set grid space to color\n",
    "                            for i in range(len(big_grid_dict[(row1,col1)])):\n",
    "                                #get index of grid space\n",
    "                                row, col = big_grid_dict[(row1,col1)][i][0], big_grid_dict[(row1,col1)][i][1]\n",
    "                                button[row][col].config(bg=\"green\", )\n",
    "\n",
    "\n",
    "             \n",
    "\n",
    "            #highlight winning small boards\n",
    "            for row1 in range(len(win_matrix)):\n",
    "                for col1 in range(len(win_matrix[row1])):\n",
    "                    if win_matrix[row1][col1] == 1: #highlight player O color (pO_col)\n",
    "                        winner_color = O_color_highlight\n",
    "                        #set grid space to color\n",
    "                        for i in range(len(big_grid_dict[(row1,col1)])):\n",
    "                            #get index of grid space\n",
    "                            row, col = big_grid_dict[(row1,col1)][i][0], big_grid_dict[(row1,col1)][i][1]\n",
    "                            button[row][col].config(bg=winner_color, )\n",
    "                    elif win_matrix[row1][col1] == 2: #highlight player X color (pX_col)\n",
    "                        winner_color = X_color_highlight\n",
    "                        #set grid space to color\n",
    "                        for i in range(len(big_grid_dict[(row1,col1)])):\n",
    "                            #get index of grid space\n",
    "                            row, col = big_grid_dict[(row1,col1)][i][0], big_grid_dict[(row1,col1)][i][1]\n",
    "                            button[row][col].config(bg=winner_color, )\n",
    "\n",
    "\n",
    "    #         if win_matrix[m_win][n_win] == 1: #highlight player O color (pO_col)\n",
    "    #             winner_color = O_color_highlight\n",
    "    #             #set grid space to color\n",
    "    #             for i in range(len(big_grid_dict[(m_win,n_win)])):\n",
    "    #                 #get index of grid space\n",
    "    #                 row, col = big_grid_dict[(m_win,n_win)][i][0], big_grid_dict[(m_win,n_win)][i][1]\n",
    "    #                 button[row][col].config(bg=winner_color, )\n",
    "    #         elif win_matrix[m_win][n_win] == 2: #highlight player X color (pX_col)\n",
    "    #             winner_color = X_color_highlight\n",
    "    #             #set grid space to color\n",
    "    #             for i in range(len(big_grid_dict[(m_win,n_win)])):\n",
    "    #                 #get index of grid space\n",
    "    #                 row, col = big_grid_dict[(m_win,n_win)][i][0], big_grid_dict[(m_win,n_win)][i][1]\n",
    "    #                 button[row][col].config(bg=winner_color, )\n",
    "\n",
    "            #highlighted = big_grid_dict[(m,n)]\n",
    "\n",
    "        else:\n",
    "            if player == 'O':\n",
    "                label_1.config(text=\"O Won!!\")\n",
    "                winner_color = O_color_highlight\n",
    "            else:\n",
    "                label_1.config(text=\"X Won!!\")\n",
    "                winner_color = X_color_highlight\n",
    "            \n",
    "            for x in range(3):\n",
    "                for y in range(3):\n",
    "                    if (r,c) in big_grid_dict[(x,y)]:\n",
    "                        m_win, n_win = x, y    \n",
    "            for i in range(len(big_grid_dict[(m_win,n_win)])):\n",
    "                            #get index of grid space\n",
    "                            row, col = big_grid_dict[(m_win,n_win)][i][0], big_grid_dict[(m_win,n_win)][i][1]\n",
    "                            button[row][col].config(bg=winner_color, )\n",
    "                            \n",
    "            highlighted = []\n",
    "\n",
    "\n",
    "#Should this be it's own function?\n",
    "for i in range(11):\n",
    "    for j in range(11):\n",
    "        frame = tk.Frame(\n",
    "            master=window,\n",
    "            relief=tk.RAISED,\n",
    "            borderwidth=1\n",
    "        )\n",
    "        # frame.grid(row=i, column=j, padx=5, pady=5)\n",
    "        if j == 3 or j == 7 or i == 3 or i == 7: #3 and 7 are spacer columns and rows\n",
    "            frame.grid(row=i, column=j, padx=5, pady=5)\n",
    "        else:\n",
    "            button[i][j] = tk.Button(text='',\n",
    "                width=5,\n",
    "                height=3,\n",
    "                bg=\"white\",\n",
    "                command=lambda r=i, c=j: highlight_grid(r, c),\n",
    "                fg=\"blue\",\n",
    "                borderwidth=1\n",
    "            )\n",
    "            button[i][j].grid(row=i, column=j, padx=1, pady=1)\n",
    "\n",
    "label_1 = tk.Label(text=\"O's turn\", font=('normal', 22, 'bold'))\n",
    "label_1.grid(row=11, column=0, columnspan=11)\n",
    "\n",
    "\n",
    "\n",
    "window.mainloop()\n"
   ]
  },
  {
   "cell_type": "code",
   "execution_count": 3,
   "metadata": {},
   "outputs": [
    {
     "name": "stdout",
     "output_type": "stream",
     "text": [
      "One line Code Key value:  Java\n"
     ]
    }
   ],
   "source": [
    "# creating a new dictionary\n",
    "my_dict ={\"Java\":100, \"Python\":112, \"C\":11}\n",
    " \n",
    "# one-liner\n",
    "print(\"One line Code Key value: \", list(my_dict.keys())[list(my_dict.values()).index(100)])"
   ]
  },
  {
   "cell_type": "code",
   "execution_count": 4,
   "metadata": {},
   "outputs": [
    {
     "ename": "ValueError",
     "evalue": "(0, 0) is not in list",
     "output_type": "error",
     "traceback": [
      "\u001b[1;31m---------------------------------------------------------------------------\u001b[0m",
      "\u001b[1;31mValueError\u001b[0m                                Traceback (most recent call last)",
      "Input \u001b[1;32mIn [4]\u001b[0m, in \u001b[0;36m<cell line: 1>\u001b[1;34m()\u001b[0m\n\u001b[1;32m----> 1\u001b[0m \u001b[38;5;28mlist\u001b[39m(big_grid_dict\u001b[38;5;241m.\u001b[39mkeys())[\u001b[38;5;28;43mlist\u001b[39;49m\u001b[43m(\u001b[49m\u001b[43mbig_grid_dict\u001b[49m\u001b[38;5;241;43m.\u001b[39;49m\u001b[43mvalues\u001b[49m\u001b[43m(\u001b[49m\u001b[43m)\u001b[49m\u001b[43m)\u001b[49m\u001b[38;5;241;43m.\u001b[39;49m\u001b[43mindex\u001b[49m\u001b[43m(\u001b[49m\u001b[43m(\u001b[49m\u001b[38;5;241;43m0\u001b[39;49m\u001b[43m,\u001b[49m\u001b[38;5;241;43m0\u001b[39;49m\u001b[43m)\u001b[49m\u001b[43m)\u001b[49m]\n",
      "\u001b[1;31mValueError\u001b[0m: (0, 0) is not in list"
     ]
    }
   ],
   "source": [
    "list(big_grid_dict.keys())[list(big_grid_dict.values()).index((0,0))]"
   ]
  },
  {
   "cell_type": "code",
   "execution_count": null,
   "metadata": {},
   "outputs": [],
   "source": [
    "win_matrix"
   ]
  },
  {
   "cell_type": "code",
   "execution_count": null,
   "metadata": {},
   "outputs": [],
   "source": [
    "list(big_grid_dict.values())"
   ]
  },
  {
   "cell_type": "code",
   "execution_count": null,
   "metadata": {},
   "outputs": [],
   "source": [
    "for pair in big_grid_dict[(0,0)]:\n",
    "    print(pair[0],pair[1])  "
   ]
  },
  {
   "cell_type": "code",
   "execution_count": null,
   "metadata": {},
   "outputs": [],
   "source": [
    "\n",
    "win_matrix"
   ]
  },
  {
   "cell_type": "code",
   "execution_count": null,
   "metadata": {},
   "outputs": [],
   "source": [
    "test=big_grid_dict[(0,0)]\n",
    "test.append((big_grid_dict[(1,1)])[0:-1])"
   ]
  },
  {
   "cell_type": "code",
   "execution_count": null,
   "metadata": {},
   "outputs": [],
   "source": [
    "list(big_grid_dict[(1,1)])[0:-1]"
   ]
  },
  {
   "cell_type": "code",
   "execution_count": null,
   "metadata": {},
   "outputs": [],
   "source": [
    "big_grid_dict[(0,0)] + big_grid_dict[(1,1)]"
   ]
  },
  {
   "cell_type": "code",
   "execution_count": null,
   "metadata": {},
   "outputs": [],
   "source": [
    "\n",
    "test"
   ]
  },
  {
   "cell_type": "code",
   "execution_count": null,
   "metadata": {},
   "outputs": [],
   "source": [
    "big_grid_dict[(0,0)]"
   ]
  },
  {
   "cell_type": "code",
   "execution_count": null,
   "metadata": {},
   "outputs": [],
   "source": [
    "\n",
    "for x in range(3):\n",
    "    for y in range(3):\n",
    "        if (r,c) in big_grid_dict[(x,y)]\n",
    "            m, n = x, y"
   ]
  },
  {
   "cell_type": "code",
   "execution_count": null,
   "metadata": {},
   "outputs": [],
   "source": [
    "r, c = 5,8\n",
    "for x in range(3):\n",
    "        for y in range(3):\n",
    "            if (r,c) in big_grid_dict[(x,y)]:\n",
    "                m, n = x, y\n",
    "                \n",
    "print(m)\n",
    "print(n)"
   ]
  },
  {
   "cell_type": "code",
   "execution_count": null,
   "metadata": {},
   "outputs": [],
   "source": [
    "win_matrix[1,1]"
   ]
  },
  {
   "cell_type": "code",
   "execution_count": null,
   "metadata": {},
   "outputs": [],
   "source": [
    "test = []"
   ]
  },
  {
   "cell_type": "code",
   "execution_count": null,
   "metadata": {},
   "outputs": [],
   "source": [
    "test"
   ]
  },
  {
   "cell_type": "code",
   "execution_count": null,
   "metadata": {},
   "outputs": [],
   "source": [
    "test = test + big_grid_dict[(0, 0)]"
   ]
  },
  {
   "cell_type": "code",
   "execution_count": null,
   "metadata": {},
   "outputs": [],
   "source": [
    "test"
   ]
  },
  {
   "cell_type": "code",
   "execution_count": null,
   "metadata": {},
   "outputs": [],
   "source": [
    "big_grid_dict[(0,0)]"
   ]
  },
  {
   "cell_type": "code",
   "execution_count": null,
   "metadata": {},
   "outputs": [],
   "source": []
  }
 ],
 "metadata": {
  "kernelspec": {
   "display_name": "Python 3 (ipykernel)",
   "language": "python",
   "name": "python3"
  },
  "language_info": {
   "codemirror_mode": {
    "name": "ipython",
    "version": 3
   },
   "file_extension": ".py",
   "mimetype": "text/x-python",
   "name": "python",
   "nbconvert_exporter": "python",
   "pygments_lexer": "ipython3",
   "version": "3.9.12"
  }
 },
 "nbformat": 4,
 "nbformat_minor": 2
}
