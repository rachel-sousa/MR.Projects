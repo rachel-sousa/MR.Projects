{
 "cells": [
  {
   "cell_type": "code",
   "execution_count": 1,
   "metadata": {},
   "outputs": [],
   "source": [
    "import tkinter as tk #import the tkinter library\n",
    "from collections import defaultdict"
   ]
  },
  {
   "cell_type": "code",
   "execution_count": 69,
   "metadata": {},
   "outputs": [
    {
     "name": "stdout",
     "output_type": "stream",
     "text": [
      "[]\n",
      "[[0, 0, 0], [0, 0, 0], [0, 0, 0]]\n",
      "[]\n",
      "[[0, 0, 0], [0, 0, 0], [0, 0, 0]]\n",
      "[]\n",
      "[[0, 0, 0], [0, 0, 0], [0, 0, 0]]\n",
      "[]\n",
      "[[0, 0, 0], [0, 0, 0], [0, 0, 0]]\n",
      "[]\n",
      "[[0, 0, 0], [0, 0, 0], [0, 0, 0]]\n",
      "[]\n",
      "[[0, 0, 0], [0, 0, 0], [0, 0, 0]]\n",
      "[]\n",
      "[[0, 0, 0], [0, 0, 0], [0, 0, 0]]\n",
      "[]\n",
      "[[0, 0, 0], [0, 0, 0], [0, 0, 0]]\n",
      "[]\n",
      "[[0, 0, 0], [0, 0, 0], [0, 0, 0]]\n",
      "[]\n",
      "[[0, 0, 0], [0, 0, 0], [0, 0, 0]]\n",
      "[]\n",
      "[[0, 0, 0], [0, 0, 0], [0, 0, 0]]\n",
      "[]\n",
      "[[0, 0, 0], [0, 0, 0], [0, 0, 0]]\n",
      "Mike is sexy\n",
      "[(0, 2)]\n",
      "[[0, 0, 1], [0, 0, 0], [0, 0, 0]]\n",
      "[(0, 2)]\n",
      "[[0, 0, 1], [0, 0, 0], [0, 0, 0]]\n",
      "[(0, 2)]\n",
      "[[0, 0, 1], [0, 0, 0], [0, 0, 0]]\n",
      "[(0, 2)]\n",
      "[[0, 0, 1], [0, 0, 0], [0, 0, 0]]\n",
      "[(0, 2)]\n",
      "[[0, 0, 1], [0, 0, 0], [0, 0, 0]]\n",
      "[(0, 2), (0, 0)]\n",
      "[[2, 0, 1], [0, 0, 0], [0, 0, 0]]\n",
      "[(0, 2), (0, 0)]\n",
      "[[2, 0, 1], [0, 0, 0], [0, 0, 0]]\n"
     ]
    }
   ],
   "source": [
    "#EXTREME Tic Tac Toe\n",
    "#By: Rachel Sousa & Mike Engle\n",
    "\n",
    "\n",
    "pO_col = \"purple\"\n",
    "O_color_hightlight = \"thistle\"\n",
    "pX_col = \"black\"\n",
    "X_color_highlight = \"lightgrey\"\n",
    "\n",
    "player = 'O'\n",
    "highlighted = []\n",
    "lilgameswon = []\n",
    "for i in range(11):\n",
    "    for j in range(11):\n",
    "        highlighted.append((i,j))\n",
    "\n",
    "win_matrix = [[0 for col in range(3)] for row in range(3)]\n",
    "\n",
    "big_grid_dict= defaultdict(list)\n",
    "big_grid_dict[(0,0)] = [(0,0), (0,1), (0,2), (1,0), (1,1), (1,2), (2,0), (2,1), (2,2)]\n",
    "big_grid_dict[(0,1)] = [(0,4), (0,5), (0,6), (1,4), (1,5), (1,6), (2,4), (2,5), (2,6)]\n",
    "big_grid_dict[(0,2)] = [(0,8), (0,9), (0,10), (1,8), (1,9), (1,10), (2,8), (2,9), (2,10)]\n",
    "big_grid_dict[(1,0)] = [(4,0), (4,1), (4,2), (5,0), (5,1), (5,2), (6,0), (6,1), (6,2)]\n",
    "big_grid_dict[(1,1)] = [(4,4), (4,5), (4,6), (5,4), (5,5), (5,6), (6,4), (6,5), (6,6)]\n",
    "big_grid_dict[(1,2)] = [(4,8), (4,9), (4,10), (5,8), (5,9), (5,10), (6,8), (6,9), (6,10)]\n",
    "big_grid_dict[(2,0)] = [(8,0), (8,1), (8,2), (9,0), (9,1), (9,2), (10,0), (10,1), (10,2)]\n",
    "big_grid_dict[(2,1)] = [(8,4), (8,5), (8,6), (9,4), (9,5), (9,6), (10,4), (10,5), (10,6)]\n",
    "big_grid_dict[(2,2)] = [(8,8), (8,9), (8,10), (9,8), (9,9), (9,10), (10,8), (10,9), (10,10)]\n",
    "\n",
    "\n",
    "#create window\n",
    "window = tk.Tk()\n",
    "\n",
    "#layout the gameboard as a matrix\n",
    "button = [[0, 0, 0, 0, 0, 0, 0, 0, 0, 0, 0],\n",
    "          [0, 0, 0, 0, 0, 0, 0, 0, 0, 0, 0],\n",
    "          [0, 0, 0, 0, 0, 0, 0, 0, 0, 0, 0],\n",
    "          [0, 0, 0, 0, 0, 0, 0, 0, 0, 0, 0],\n",
    "          [0, 0, 0, 0, 0, 0, 0, 0, 0, 0, 0],\n",
    "          [0, 0, 0, 0, 0, 0, 0, 0, 0, 0, 0],\n",
    "          [0, 0, 0, 0, 0, 0, 0, 0, 0, 0, 0],\n",
    "          [0, 0, 0, 0, 0, 0, 0, 0, 0, 0, 0],\n",
    "          [0, 0, 0, 0, 0, 0, 0, 0, 0, 0, 0],\n",
    "          [0, 0, 0, 0, 0, 0, 0, 0, 0, 0, 0],\n",
    "          [0, 0, 0, 0, 0, 0, 0, 0, 0, 0, 0]]\n",
    "\n",
    "\n",
    "def add_text(r,c):\n",
    "    global player\n",
    "    #if spot is empty add text\n",
    "    #if button[r][c]['text'] == '':\n",
    "    button[r][c]['text'] = player\n",
    "        #change to other player\n",
    "    if player == 'O':\n",
    "        button[r][c].config(fg=pO_col,)\n",
    "        label_1.config(text= \"X's turn\")\n",
    "        #player = 'X'\n",
    "    else:\n",
    "        button[r][c].config(fg=pX_col, )\n",
    "        label_1.config(text=\"O's turn\")\n",
    "        #player = 'O'\n",
    "\n",
    "def check_lilwin(r,c):\n",
    "    global win_matrix\n",
    "    global lilgameswon\n",
    "    \n",
    "    #find big_grid_dict that contains (r,c) and take the first value of the big grid dict that has that set\n",
    "    for x in range(3):\n",
    "        for y in range(3):\n",
    "            if (r,c) in big_grid_dict[(x,y)]:\n",
    "                m, n = x, y\n",
    "            \n",
    "    i, j = big_grid_dict[(m, n)][0] #gives first entry of big grid dict\n",
    "    #check rows\n",
    "    for num in range(3):\n",
    "        if button[i+num][j]['text'] == button[i+num][j+1]['text'] == button[i+num][j+2]['text'] != '':\n",
    "            if player == 'O':\n",
    "                win_matrix[m][n] = 1\n",
    "                print(\"Mike is sexy\")\n",
    "                lilgameswon = lilgameswon + [(m, n)]\n",
    "            else:\n",
    "                win_matrix[m][n] = 2\n",
    "                lilgameswon = lilgameswon + [(m, n)]\n",
    "\n",
    "    #check columns                \n",
    "    for num in range(3):\n",
    "        if button[i][j+num]['text'] == button[i+1][j+num]['text'] == button[i+2][j+num]['text'] != '':\n",
    "            if player == 'O':\n",
    "                win_matrix[m][n] = 1\n",
    "                print(\"Mike is sexy\")\n",
    "                lilgameswon = lilgameswon + [(m, n)]\n",
    "            else:\n",
    "                win_matrix[m][n] = 2\n",
    "                lilgameswon = lilgameswon + [(m, n)]\n",
    "\n",
    "    #check diagonals\n",
    "    if button[i][j]['text'] == button[i+1][j+1]['text'] == button[i+2][j+2]['text'] != '':\n",
    "        if player == 'O':\n",
    "            win_matrix[m][n] = 1\n",
    "            lilgameswon = lilgameswon + [(m, n)]\n",
    "        else:\n",
    "            win_matrix[m][n] = 2\n",
    "            lilgameswon = lilgameswon + [(m, n)]\n",
    "    elif button[i][j+2]['text'] == button[i][j]['text'] == button[i+2][j]['text'] != '':\n",
    "        if player == 'O':\n",
    "            win_matrix[m][n] = 1\n",
    "            lilgameswon = lilgameswon + [(m, n)]\n",
    "        else:\n",
    "            win_matrix[m][n] = 2\n",
    "            lilgameswon = lilgameswon + [(m, n)]\n",
    "            \n",
    "    print(lilgameswon)\n",
    "            \n",
    "\n",
    "            \n",
    "#need to fix this\n",
    "def check_bigwin():\n",
    "    global win_matrix\n",
    "    for i in range(3):\n",
    "        if win_matrix[i][0] == win_matrix[i][1] == win_matrix[i][2] != 0:\n",
    "            return True\n",
    "    for j in range(3):\n",
    "        if win_matrix[0][j] == win_matrix[1][j] == win_matrix[2][j] != 0:\n",
    "            return True\n",
    "    if win_matrix[0][0] == win_matrix[1][1] == win_matrix[2][2] != 0:\n",
    "        return True\n",
    "    elif win_matrix[0][2] == win_matrix[1][1]== win_matrix[2][0] != 0:\n",
    "        return True\n",
    "    return False\n",
    "\n",
    "#######attempt to highlight a whole 3x3 matrix######\n",
    "#If there is no full board winner then clear the highlights (make all of the squares white), and then highlight\n",
    "#the small grid of the next turn. If there is a winner print the winning player in the terminal \n",
    "def highlight_grid(r, c):\n",
    "    global highlighted\n",
    "    global player\n",
    "    global lilgameswon\n",
    "    #m and n are the indices for the big grid\n",
    "    #r and c are indicies for indiviaul buttons\n",
    "    \n",
    "    if check_bigwin() == False:\n",
    "        #used for highlighting the grid\n",
    "        if (r < 3):\n",
    "            m = r\n",
    "        elif (r > 3 and r < 7):\n",
    "            m = (r - 4)\n",
    "        elif (r > 7):\n",
    "            m = (r - 8)\n",
    "            \n",
    "        if (c < 3):\n",
    "             n = c\n",
    "        elif (c > 3 and c < 7):\n",
    "            n = (c - 4)\n",
    "        elif (c > 7):\n",
    "            n = (c - 8)\n",
    "\n",
    "        if (r, c) in highlighted and (m,n) not in lilgameswon and button[r][c]['text'] == '':\n",
    "            add_text(r, c)\n",
    "            check_lilwin(r,c)\n",
    "            print(win_matrix)\n",
    "\n",
    "            #change players after turn is over\n",
    "            if player == 'O':\n",
    "                player = 'X'\n",
    "            else:\n",
    "                player = 'O'\n",
    "\n",
    "            #clear the board\n",
    "            for e in range(11):\n",
    "                w = 0\n",
    "                for w in range (11):\n",
    "                    if (e!=3 and e!=7):\n",
    "                        if (w!=3 and w!=7):\n",
    "                            button[e][w].config(bg=\"white\",)\n",
    "\n",
    "            for i in range(len(big_grid_dict[(m,n)])):\n",
    "                #get index of grid space\n",
    "                row, col = big_grid_dict[(m,n)][i][0], big_grid_dict[(m,n)][i][1]\n",
    "                #set grid space to color\n",
    "                button[row][col].config(bg=\"green\", )\n",
    "                \n",
    "                \n",
    "            for x in range(3):\n",
    "                for y in range(3):\n",
    "                    if (r,c) in big_grid_dict[(x,y)]:\n",
    "                        m_win, n_win = x, y   \n",
    "\n",
    "            #highlight winning small boards\n",
    "            if win_matrix[m_win][n_win] == 1: #highlight player O color (pO_col)\n",
    "                winner_color = O_color_hightlight\n",
    "                #set grid space to color\n",
    "                for i in range(len(big_grid_dict[(m_win,n_win)])):\n",
    "                    #get index of grid space\n",
    "                    row, col = big_grid_dict[(m_win,n_win)][i][0], big_grid_dict[(m_win,n_win)][i][1]\n",
    "                    button[row][col].config(bg=winner_color, )\n",
    "            elif win_matrix[m_win][n_win] == 2: #highlight player X color (pX_col)\n",
    "                winner_color = X_color_highlight\n",
    "                #set grid space to color\n",
    "                for i in range(len(big_grid_dict[(m_win,n_win)])):\n",
    "                    #get index of grid space\n",
    "                    row, col = big_grid_dict[(m_win,n_win)][i][0], big_grid_dict[(m_win,n_win)][i][1]\n",
    "                    button[row][col].config(bg=winner_color, )\n",
    "\n",
    "            highlighted = big_grid_dict[(m,n)]\n",
    "            \n",
    "\n",
    "    else:\n",
    "        if player == 'O':\n",
    "            label_1.config(text=\"O Won!!\")\n",
    "            print(\"hi\")\n",
    "        else:\n",
    "            label_1.config(text=\"X Won!!\")\n",
    "            print(\"hi\")\n",
    "\n",
    "\n",
    "#Should this be it's own function?\n",
    "for i in range(11):\n",
    "    for j in range(11):\n",
    "        frame = tk.Frame(\n",
    "            master=window,\n",
    "            relief=tk.RAISED,\n",
    "            borderwidth=1\n",
    "        )\n",
    "        # frame.grid(row=i, column=j, padx=5, pady=5)\n",
    "        if j == 3 or j == 7 or i == 3 or i == 7: #3 and 7 are spacer columns and rows\n",
    "            frame.grid(row=i, column=j, padx=5, pady=5)\n",
    "        else:\n",
    "            button[i][j] = tk.Button(text='',\n",
    "                width=5,\n",
    "                height=3,\n",
    "                bg=\"white\",\n",
    "                command=lambda r=i, c=j: highlight_grid(r, c),\n",
    "                fg=\"blue\",\n",
    "                borderwidth=1\n",
    "            )\n",
    "            button[i][j].grid(row=i, column=j, padx=1, pady=1)\n",
    "\n",
    "label_1 = tk.Label(text=\"O's turn\", font=('normal', 22, 'bold'))\n",
    "label_1.grid(row=11, column=0, columnspan=11)\n",
    "\n",
    "\n",
    "\n",
    "window.mainloop()\n"
   ]
  },
  {
   "cell_type": "code",
   "execution_count": 6,
   "metadata": {},
   "outputs": [
    {
     "data": {
      "text/plain": [
       "(4, 4)"
      ]
     },
     "execution_count": 6,
     "metadata": {},
     "output_type": "execute_result"
    }
   ],
   "source": [
    "big_grid_dict[(1, 1)][0]"
   ]
  },
  {
   "cell_type": "code",
   "execution_count": null,
   "metadata": {},
   "outputs": [],
   "source": []
  },
  {
   "cell_type": "code",
   "execution_count": 4,
   "metadata": {},
   "outputs": [
    {
     "data": {
      "text/plain": [
       "[[0, 0, 0], [0, 0, 0], [0, 0, 0]]"
      ]
     },
     "execution_count": 4,
     "metadata": {},
     "output_type": "execute_result"
    }
   ],
   "source": [
    "\n",
    "win_matrix"
   ]
  },
  {
   "cell_type": "code",
   "execution_count": 21,
   "metadata": {},
   "outputs": [
    {
     "data": {
      "text/plain": [
       "[(0, 0), (0, 1), (0, 2), (1, 0), (1, 1), (1, 2), (2, 0), (2, 1), (2, 2)]"
      ]
     },
     "execution_count": 21,
     "metadata": {},
     "output_type": "execute_result"
    }
   ],
   "source": [
    "big_grid_dict[(0,0)]"
   ]
  },
  {
   "cell_type": "code",
   "execution_count": 22,
   "metadata": {},
   "outputs": [
    {
     "data": {
      "text/plain": [
       "True"
      ]
     },
     "execution_count": 22,
     "metadata": {},
     "output_type": "execute_result"
    }
   ],
   "source": [
    "\n",
    "for x in range(3):\n",
    "    for y in range(3):\n",
    "        if (r,c) in big_grid_dict[(x,y)]\n",
    "            m, n = x, y"
   ]
  },
  {
   "cell_type": "code",
   "execution_count": 31,
   "metadata": {},
   "outputs": [
    {
     "name": "stdout",
     "output_type": "stream",
     "text": [
      "1\n",
      "2\n"
     ]
    }
   ],
   "source": [
    "r, c = 5,8\n",
    "for x in range(3):\n",
    "        for y in range(3):\n",
    "            if (r,c) in big_grid_dict[(x,y)]:\n",
    "                m, n = x, y\n",
    "                \n",
    "print(m)\n",
    "print(n)"
   ]
  },
  {
   "cell_type": "code",
   "execution_count": 40,
   "metadata": {},
   "outputs": [
    {
     "ename": "TypeError",
     "evalue": "list indices must be integers or slices, not tuple",
     "output_type": "error",
     "traceback": [
      "\u001b[1;31m---------------------------------------------------------------------------\u001b[0m",
      "\u001b[1;31mTypeError\u001b[0m                                 Traceback (most recent call last)",
      "\u001b[1;32m<ipython-input-40-7212834c2e14>\u001b[0m in \u001b[0;36m<module>\u001b[1;34m\u001b[0m\n\u001b[1;32m----> 1\u001b[1;33m \u001b[0mwin_matrix\u001b[0m\u001b[1;33m[\u001b[0m\u001b[1;36m1\u001b[0m\u001b[1;33m,\u001b[0m\u001b[1;36m1\u001b[0m\u001b[1;33m]\u001b[0m\u001b[1;33m\u001b[0m\u001b[1;33m\u001b[0m\u001b[0m\n\u001b[0m",
      "\u001b[1;31mTypeError\u001b[0m: list indices must be integers or slices, not tuple"
     ]
    }
   ],
   "source": [
    "win_matrix[1,1]"
   ]
  },
  {
   "cell_type": "code",
   "execution_count": 58,
   "metadata": {},
   "outputs": [],
   "source": [
    "test = []"
   ]
  },
  {
   "cell_type": "code",
   "execution_count": 59,
   "metadata": {},
   "outputs": [
    {
     "data": {
      "text/plain": [
       "[]"
      ]
     },
     "execution_count": 59,
     "metadata": {},
     "output_type": "execute_result"
    }
   ],
   "source": [
    "test"
   ]
  },
  {
   "cell_type": "code",
   "execution_count": 60,
   "metadata": {},
   "outputs": [],
   "source": [
    "test = test + big_grid_dict[(0, 0)]"
   ]
  },
  {
   "cell_type": "code",
   "execution_count": 61,
   "metadata": {},
   "outputs": [
    {
     "data": {
      "text/plain": [
       "[(0, 0), (0, 1), (0, 2), (1, 0), (1, 1), (1, 2), (2, 0), (2, 1), (2, 2)]"
      ]
     },
     "execution_count": 61,
     "metadata": {},
     "output_type": "execute_result"
    }
   ],
   "source": [
    "test"
   ]
  },
  {
   "cell_type": "code",
   "execution_count": 56,
   "metadata": {},
   "outputs": [
    {
     "data": {
      "text/plain": [
       "[(0, 0), (0, 1), (0, 2), (1, 0), (1, 1), (1, 2), (2, 0), (2, 1), (2, 2)]"
      ]
     },
     "execution_count": 56,
     "metadata": {},
     "output_type": "execute_result"
    }
   ],
   "source": [
    "big_grid_dict[(0,0)]"
   ]
  },
  {
   "cell_type": "code",
   "execution_count": null,
   "metadata": {},
   "outputs": [],
   "source": []
  }
 ],
 "metadata": {
  "kernelspec": {
   "display_name": "Python 3",
   "language": "python",
   "name": "python3"
  },
  "language_info": {
   "codemirror_mode": {
    "name": "ipython",
    "version": 3
   },
   "file_extension": ".py",
   "mimetype": "text/x-python",
   "name": "python",
   "nbconvert_exporter": "python",
   "pygments_lexer": "ipython3",
   "version": "3.7.3"
  }
 },
 "nbformat": 4,
 "nbformat_minor": 2
}
